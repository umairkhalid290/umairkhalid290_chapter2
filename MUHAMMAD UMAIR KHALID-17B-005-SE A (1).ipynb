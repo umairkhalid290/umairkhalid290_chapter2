{
 "cells": [
  {
   "cell_type": "markdown",
   "metadata": {},
   "source": [
    "# CHAPTER NO 2"
   ]
  },
  {
   "cell_type": "code",
   "execution_count": 2,
   "metadata": {},
   "outputs": [
    {
     "name": "stdout",
     "output_type": "stream",
     "text": [
      "5 3 0.5 9 11 28 0.17237037037037037\n"
     ]
    }
   ],
   "source": [
    "\n",
    "#simple algebraic expressions\n",
    "a=3 + 2\n",
    "b=6 - 3\n",
    "c=4 / 8\n",
    "d=1 * 9\n",
    "e=2*4+3\n",
    "f=(3+1)*7\n",
    "g=4.654/(4+23)\n",
    "print(a,b,c,d,e,f,g)"
   ]
  },
  {
   "cell_type": "code",
   "execution_count": 3,
   "metadata": {},
   "outputs": [
    {
     "name": "stdout",
     "output_type": "stream",
     "text": [
      "True False True False\n"
     ]
    }
   ],
   "source": [
    "#true and false\n",
    "a=2 < 3\n",
    "b=2 < 3 and 4 > 5\n",
    "c=3 < 4 or 4 < 3\n",
    "d=3 < 2 or 2 < 1 \n",
    "print(a,b,c,d)\n"
   ]
  },
  {
   "cell_type": "code",
   "execution_count": 6,
   "metadata": {},
   "outputs": [
    {
     "name": "stdout",
     "output_type": "stream",
     "text": [
      "16\n"
     ]
    }
   ],
   "source": [
    "#When Python evaluates an expression containing a variable\n",
    "\n",
    "x=4\n",
    "4*x\n",
    "counter = 4*x\n",
    "print(counter)\n"
   ]
  },
  {
   "cell_type": "code",
   "execution_count": 7,
   "metadata": {},
   "outputs": [
    {
     "name": "stdout",
     "output_type": "stream",
     "text": [
      "25\n"
     ]
    }
   ],
   "source": [
    "#write python program\n",
    "\n",
    "a=3\n",
    "b=4\n",
    "c=a*a+b*b\n",
    "print (c)\n",
    "\n"
   ]
  },
  {
   "cell_type": "code",
   "execution_count": 8,
   "metadata": {},
   "outputs": [
    {
     "name": "stdout",
     "output_type": "stream",
     "text": [
      "7\n"
     ]
    }
   ],
   "source": [
    "#suppose that the value of variable x\n",
    "\n",
    "x=4\n",
    "x=7\n",
    "print (x)\n",
    "\n"
   ]
  },
  {
   "cell_type": "code",
   "execution_count": 9,
   "metadata": {},
   "outputs": [
    {
     "name": "stdout",
     "output_type": "stream",
     "text": [
      "hello\n"
     ]
    }
   ],
   "source": [
    "#string\n",
    "\n",
    "'hello, world'\n",
    "s='hello'\n",
    "print(s)\n"
   ]
  },
  {
   "cell_type": "code",
   "execution_count": 10,
   "metadata": {},
   "outputs": [
    {
     "name": "stdout",
     "output_type": "stream",
     "text": [
      "goldfish\n",
      "cat\n"
     ]
    }
   ],
   "source": [
    "pets = ['goldfish', 'cat', 'dog'] \n",
    "print(pets[0])\n",
    "print(pets[1])\n",
    "\n"
   ]
  },
  {
   "cell_type": "code",
   "execution_count": 12,
   "metadata": {},
   "outputs": [
    {
     "name": "stdout",
     "output_type": "stream",
     "text": [
      "('Mo', 'Tu', 'We')\n",
      "('Mo', 'Tu', 'We', 'Th')\n",
      "('Mo', 'Tu', 'We', 'Th', 'Fr', 'Sa', 'Su')\n"
     ]
    },
    {
     "data": {
      "text/plain": [
       "('Mo',\n",
       " 'Tu',\n",
       " 'We',\n",
       " 'Th',\n",
       " 'Fr',\n",
       " 'Sa',\n",
       " 'Su',\n",
       " 'Mo',\n",
       " 'Tu',\n",
       " 'We',\n",
       " 'Th',\n",
       " 'Fr',\n",
       " 'Sa',\n",
       " 'Su')"
      ]
     },
     "execution_count": 12,
     "metadata": {},
     "output_type": "execute_result"
    }
   ],
   "source": [
    "days = ('Mo', 'Tu', 'We')\n",
    "print(days)\n",
    "days = 'Mo', 'Tu', 'We', 'Th'\n",
    "print(days)\n",
    "'Fr' in days \n",
    "week = days + ('Fr', 'Sa', 'Su') \n",
    "print(week)\n",
    "len(week) \n",
    "2*week "
   ]
  },
  {
   "cell_type": "code",
   "execution_count": 11,
   "metadata": {},
   "outputs": [
    {
     "name": "stdout",
     "output_type": "stream",
     "text": [
      "['goldfish', 'cymric cat', 'dog', 'guinea pig']\n",
      "['guinea pig', 'dog', 'cymric cat', 'goldfish']\n"
     ]
    },
    {
     "data": {
      "text/plain": [
       "1"
      ]
     },
     "execution_count": 11,
     "metadata": {},
     "output_type": "execute_result"
    }
   ],
   "source": [
    "numbers = [6, 9, 4, 22]\n",
    "min(numbers)\n",
    "pets = ['goldfish', 'cymric cat', 'dog']\n",
    "pets.append('guinea pig')\n",
    "print(pets) \n",
    "pets.reverse()\n",
    "print(pets) \n",
    "pets.count('dog')"
   ]
  },
  {
   "cell_type": "code",
   "execution_count": null,
   "metadata": {},
   "outputs": [],
   "source": [
    "#PRACTICE PROBLEM"
   ]
  },
  {
   "cell_type": "code",
   "execution_count": 1,
   "metadata": {},
   "outputs": [
    {
     "name": "stdout",
     "output_type": "stream",
     "text": [
      "15\n",
      "24.333333333333332\n",
      "5\n",
      "38\n",
      "1024\n",
      "29.95\n"
     ]
    }
   ],
   "source": [
    "#2.1\n",
    "sum=1+2+3+4+5\n",
    "print(sum)\n",
    "avg=(23+19+31)/3\n",
    "print (avg)\n",
    "a=403//73\n",
    "print(a)\n",
    "b=403%73\n",
    "print(b)\n",
    "power=2**10\n",
    "print(power)\n",
    "diff=abs(54-57)\n",
    "minimum=min(34.99,29.95,31.50)\n",
    "print(minimum)"
   ]
  },
  {
   "cell_type": "code",
   "execution_count": 2,
   "metadata": {},
   "outputs": [
    {
     "name": "stdout",
     "output_type": "stream",
     "text": [
      "False True True False False False True\n"
     ]
    }
   ],
   "source": [
    "#2.2\n",
    "a=2+2<4\n",
    "b=7//3==1+1\n",
    "c=3**2+4**2==25\n",
    "d=2+4+6>12\n",
    "e=1389%19==0\n",
    "f=31%2==0\n",
    "g=min(34.99,29.95,31.50)<30.00\n",
    "print(a,b,c,d,e,f,g)\n"
   ]
  },
  {
   "cell_type": "code",
   "execution_count": 3,
   "metadata": {},
   "outputs": [
    {
     "name": "stdout",
     "output_type": "stream",
     "text": [
      "25\n"
     ]
    }
   ],
   "source": [
    "#2.3\n",
    "a=3\n",
    "b=4\n",
    "c=a*a+b*b\n",
    "print(c)"
   ]
  },
  {
   "cell_type": "code",
   "execution_count": 4,
   "metadata": {},
   "outputs": [
    {
     "name": "stdout",
     "output_type": "stream",
     "text": [
      "ant bat cod\n",
      "ant ant ant ant ant ant ant ant ant ant \n",
      "ant bat bat cod cod  cod\n",
      "ant bat ant bat ant bat ant bat ant bat ant bat ant bat \n",
      "batbatcod batbatcod batbatcod \n"
     ]
    }
   ],
   "source": [
    "#2.4\n",
    "s1='ant'\n",
    "s2='bat'\n",
    "s3='cod'\n",
    "a=print(s1,s2,s3)\n",
    "b=print(10*(s1+' '))\n",
    "c=print(s1+' '+2*(s2+' ')+2*(s3+' '),s3)\n",
    "print(7*(s1+' '+s2+' '))\n",
    "print(3*(2*s2+s3+' '))"
   ]
  },
  {
   "cell_type": "code",
   "execution_count": 6,
   "metadata": {},
   "outputs": [
    {
     "name": "stdout",
     "output_type": "stream",
     "text": [
      "0 1 6 8 9\n"
     ]
    }
   ],
   "source": [
    "#2.5\n",
    "s='0123456789'\n",
    "print(s[0],s[1],s[6],s[8],s[9])\n"
   ]
  },
  {
   "cell_type": "code",
   "execution_count": 7,
   "metadata": {},
   "outputs": [
    {
     "name": "stdout",
     "output_type": "stream",
     "text": [
      "badminton\n",
      "foot\n"
     ]
    }
   ],
   "source": [
    "#2.6\n",
    "words=['bat','ball','foot','basket','badminton']\n",
    "print(min(words))\n",
    "print(max(words))\n"
   ]
  },
  {
   "cell_type": "code",
   "execution_count": 8,
   "metadata": {},
   "outputs": [
    {
     "name": "stdout",
     "output_type": "stream",
     "text": [
      "2\n",
      "[2, 3, 6, 6, 7, 7, 9, 9, 10]\n",
      "10\n"
     ]
    },
    {
     "ename": "TypeError",
     "evalue": "'int' object is not callable",
     "output_type": "error",
     "traceback": [
      "\u001b[1;31m---------------------------------------------------------------------------\u001b[0m",
      "\u001b[1;31mTypeError\u001b[0m                                 Traceback (most recent call last)",
      "\u001b[1;32m<ipython-input-8-cafd8af79b0d>\u001b[0m in \u001b[0;36m<module>\u001b[1;34m\u001b[0m\n\u001b[0;32m      5\u001b[0m \u001b[0mprint\u001b[0m\u001b[1;33m(\u001b[0m\u001b[0mgrade\u001b[0m\u001b[1;33m)\u001b[0m\u001b[1;33m\u001b[0m\u001b[1;33m\u001b[0m\u001b[0m\n\u001b[0;32m      6\u001b[0m \u001b[0mprint\u001b[0m\u001b[1;33m(\u001b[0m\u001b[0mmax\u001b[0m\u001b[1;33m(\u001b[0m\u001b[0mgrade\u001b[0m\u001b[1;33m)\u001b[0m\u001b[1;33m)\u001b[0m\u001b[1;33m\u001b[0m\u001b[1;33m\u001b[0m\u001b[0m\n\u001b[1;32m----> 7\u001b[1;33m \u001b[0mprint\u001b[0m\u001b[1;33m(\u001b[0m\u001b[1;33m(\u001b[0m\u001b[0msum\u001b[0m\u001b[1;33m(\u001b[0m\u001b[0mgrade\u001b[0m\u001b[1;33m)\u001b[0m\u001b[1;33m)\u001b[0m\u001b[1;33m/\u001b[0m\u001b[1;33m(\u001b[0m\u001b[0mlen\u001b[0m\u001b[1;33m(\u001b[0m\u001b[0mgrade\u001b[0m\u001b[1;33m)\u001b[0m\u001b[1;33m)\u001b[0m\u001b[1;33m)\u001b[0m\u001b[1;33m\u001b[0m\u001b[1;33m\u001b[0m\u001b[0m\n\u001b[0m\u001b[0;32m      8\u001b[0m \u001b[0mgrade\u001b[0m\u001b[1;33m[\u001b[0m\u001b[1;33m-\u001b[0m\u001b[1;36m1\u001b[0m\u001b[1;33m]\u001b[0m\u001b[1;33m=\u001b[0m\u001b[1;36m4\u001b[0m\u001b[1;33m\u001b[0m\u001b[1;33m\u001b[0m\u001b[0m\n\u001b[0;32m      9\u001b[0m \u001b[0mprint\u001b[0m\u001b[1;33m(\u001b[0m\u001b[0mgrade\u001b[0m\u001b[1;33m)\u001b[0m\u001b[1;33m\u001b[0m\u001b[1;33m\u001b[0m\u001b[0m\n",
      "\u001b[1;31mTypeError\u001b[0m: 'int' object is not callable"
     ]
    }
   ],
   "source": [
    "#2.7\n",
    "grade =[9,7,7,10,3,9,6,6,2]\n",
    "print(grade.count(7))     \n",
    "grade.sort()\n",
    "print(grade)\n",
    "print(max(grade))\n",
    "print((sum(grade))/(len(grade)))\n",
    "grade[-1]=4\n",
    "print(grade)"
   ]
  },
  {
   "cell_type": "code",
   "execution_count": 9,
   "metadata": {},
   "outputs": [
    {
     "name": "stdout",
     "output_type": "stream",
     "text": [
      "True True True 18 True\n"
     ]
    }
   ],
   "source": [
    "#2.8\n",
    "a=6\n",
    "l=[0,1,2,3,4,5,6,7,8,9]\n",
    "b=((2+3)==4)or(a>=5)\n",
    "c=(((l[1])*(-3))<(-10))==0\n",
    "d=(((l[1])*(-3))<(-10)) in [0,True]\n",
    "e=2*(3**2)\n",
    "f=(4/2) in [1,2,3]\n",
    "print(b,c,d,e,f)\n"
   ]
  },
  {
   "cell_type": "code",
   "execution_count": 11,
   "metadata": {},
   "outputs": [
    {
     "name": "stdout",
     "output_type": "stream",
     "text": [
      "0\n",
      "1458.0\n",
      "3\n",
      "True\n"
     ]
    }
   ],
   "source": [
    "#2.9\n",
    "print(False+False)\n",
    "print(2*3**6.0)\n",
    "print(6//2+10%2)\n",
    "print(2+3==4 or 5>=5)"
   ]
  },
  {
   "cell_type": "code",
   "execution_count": 2,
   "metadata": {},
   "outputs": [
    {
     "name": "stdout",
     "output_type": "stream",
     "text": [
      "5.0\n",
      "True\n",
      "28.274333882308138\n",
      "True\n"
     ]
    }
   ],
   "source": [
    "#2.10\n",
    "import math\n",
    "a=3\n",
    "b=4\n",
    "x='x'\n",
    "y='y'\n",
    "R=math.sqrt(a**2+b**2)\n",
    "c=math.sqrt(a**2+b**2)==5\n",
    "r=math.pi*a**2\n",
    "print(R)\n",
    "print(c)\n",
    "print(r)\n",
    "print((a)**2+(b)**2<r**2)"
   ]
  },
  {
   "cell_type": "code",
   "execution_count": null,
   "metadata": {},
   "outputs": [],
   "source": [
    "#EXCERCISE PROBLEMS"
   ]
  },
  {
   "cell_type": "code",
   "execution_count": 3,
   "metadata": {},
   "outputs": [
    {
     "name": "stdout",
     "output_type": "stream",
     "text": [
      "-28\n",
      "the average age is 10.5\n",
      "9.5367431640625e-07\n",
      "71\n",
      "25\n"
     ]
    }
   ],
   "source": [
    "#2.11\n",
    "#part a\n",
    "c=0\n",
    "for i in range(-7,0):\n",
    "    c+=i\n",
    "print(c)\n",
    "#part b\n",
    "a=(9+10+11+12)/4\n",
    "print(f\"the average age is {a}\")\n",
    "#part c\n",
    "a=1/(2**20)\n",
    "print(a)\n",
    "#part d\n",
    "print(4356//61)\n",
    "#part e\n",
    "print(4356%61)"
   ]
  },
  {
   "cell_type": "code",
   "execution_count": null,
   "metadata": {},
   "outputs": [],
   "source": [
    "#2.13\n",
    "s=\"abcdefghijklmnopqrstuvwxyz\"\n",
    "print(s.index('a'))\n",
    "print(s.index('c'))\n",
    "print(s.index('z'))\n",
    "print(s.index('y'))\n",
    "print(s.index('q'))"
   ]
  },
  {
   "cell_type": "code",
   "execution_count": 5,
   "metadata": {},
   "outputs": [
    {
     "name": "stdout",
     "output_type": "stream",
     "text": [
      "True\n",
      "False\n"
     ]
    },
    {
     "ename": "TypeError",
     "evalue": "'bool' object is not subscriptable",
     "output_type": "error",
     "traceback": [
      "\u001b[1;31m---------------------------------------------------------------------------\u001b[0m",
      "\u001b[1;31mTypeError\u001b[0m                                 Traceback (most recent call last)",
      "\u001b[1;32m<ipython-input-5-f03363800c1a>\u001b[0m in \u001b[0;36m<module>\u001b[1;34m\u001b[0m\n\u001b[0;32m     12\u001b[0m \u001b[0mprint\u001b[0m\u001b[1;33m(\u001b[0m\u001b[0ma\u001b[0m\u001b[1;33m)\u001b[0m\u001b[1;33m\u001b[0m\u001b[1;33m\u001b[0m\u001b[0m\n\u001b[0;32m     13\u001b[0m \u001b[1;31m#part c\u001b[0m\u001b[1;33m\u001b[0m\u001b[1;33m\u001b[0m\u001b[1;33m\u001b[0m\u001b[0m\n\u001b[1;32m---> 14\u001b[1;33m \u001b[1;32mif\u001b[0m \u001b[1;33m(\u001b[0m\u001b[0ms\u001b[0m\u001b[1;33m[\u001b[0m\u001b[1;36m0\u001b[0m\u001b[1;33m]\u001b[0m\u001b[1;33m==\u001b[0m\u001b[1;34m\"g\"\u001b[0m\u001b[1;32mand\u001b[0m \u001b[0ma\u001b[0m\u001b[1;33m[\u001b[0m\u001b[1;36m1\u001b[0m\u001b[1;33m]\u001b[0m\u001b[1;33m==\u001b[0m\u001b[1;34m\"a\"\u001b[0m\u001b[1;33m)\u001b[0m\u001b[1;33m:\u001b[0m\u001b[1;33m\u001b[0m\u001b[1;33m\u001b[0m\u001b[0m\n\u001b[0m\u001b[0;32m     15\u001b[0m     \u001b[0ma\u001b[0m\u001b[1;33m=\u001b[0m\u001b[1;32mTrue\u001b[0m\u001b[1;33m\u001b[0m\u001b[1;33m\u001b[0m\u001b[0m\n\u001b[0;32m     16\u001b[0m \u001b[1;32melse\u001b[0m\u001b[1;33m:\u001b[0m\u001b[1;33m\u001b[0m\u001b[1;33m\u001b[0m\u001b[0m\n",
      "\u001b[1;31mTypeError\u001b[0m: 'bool' object is not subscriptable"
     ]
    }
   ],
   "source": [
    "#2.14\n",
    "s='goodbye'\n",
    "#part a\n",
    "a=True\n",
    "if s[0]!=\"g\":\n",
    "    a=False\n",
    "print(a)\n",
    "#part b\n",
    "a=True\n",
    "if s[6]!=\"g\":\n",
    "    a=False\n",
    "print(a)\n",
    "#part c\n",
    "if (s[0]==\"g\"and a[1]==\"a\"):\n",
    "    a=True\n",
    "else:\n",
    "    a=False\n",
    "print(a)"
   ]
  },
  {
   "cell_type": "code",
   "execution_count": null,
   "metadata": {},
   "outputs": [],
   "source": []
  }
 ],
 "metadata": {
  "kernelspec": {
   "display_name": "Python 3",
   "language": "python",
   "name": "python3"
  },
  "language_info": {
   "codemirror_mode": {
    "name": "ipython",
    "version": 3
   },
   "file_extension": ".py",
   "mimetype": "text/x-python",
   "name": "python",
   "nbconvert_exporter": "python",
   "pygments_lexer": "ipython3",
   "version": "3.7.3"
  }
 },
 "nbformat": 4,
 "nbformat_minor": 2
}
